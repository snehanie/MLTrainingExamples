{
 "cells": [
  {
   "cell_type": "code",
   "execution_count": 2,
   "metadata": {
    "collapsed": false
   },
   "outputs": [],
   "source": [
    "import pandas as pd\n",
    "ds = pd.read_csv(\"train.csv\")\n",
    "\n",
    "ds[\"Age\"] = ds[\"Age\"].fillna(ds[\"Age\"].median())\n",
    "\n",
    "ds.loc[ds[\"Sex\"] == \"male\",\"Sex\"] = 0\n",
    "ds.loc[ds[\"Sex\"] == \"female\", \"Sex\"] = 1\n",
    "\n",
    "ds[\"Embarked\"] = ds[\"Embarked\"].fillna(\"S\")\n",
    "ds.loc[ds[\"Embarked\"] == 'S', \"Embarked\"] = 0\n",
    "ds.loc[ds[\"Embarked\"] == 'C', \"Embarked\"] = 1\n",
    "ds.loc[ds[\"Embarked\"] == 'Q', \"Embarked\"] = 2\n",
    "\n",
    "import numpy as np\n",
    "from sklearn import GradientBoostingClassifier\n",
    "\n",
    "algorithms = [\n",
    "    [GradientBoostingClassifier(random_s)],\n",
    "    []\n",
    "]"
   ]
  }
 ],
 "metadata": {
  "kernelspec": {
   "display_name": "Python 3",
   "language": "python",
   "name": "python3"
  },
  "language_info": {
   "codemirror_mode": {
    "name": "ipython",
    "version": 3
   },
   "file_extension": ".py",
   "mimetype": "text/x-python",
   "name": "python",
   "nbconvert_exporter": "python",
   "pygments_lexer": "ipython3",
   "version": "3.5.1"
  }
 },
 "nbformat": 4,
 "nbformat_minor": 0
}
