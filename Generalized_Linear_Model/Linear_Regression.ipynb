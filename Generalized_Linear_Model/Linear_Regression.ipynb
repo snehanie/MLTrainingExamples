{
 "cells": [
  {
   "cell_type": "code",
   "execution_count": 38,
   "metadata": {
    "collapsed": false
   },
   "outputs": [],
   "source": [
    "import warnings\n",
    "warnings.filterwarnings(\"ignore\", category=DeprecationWarning)\n",
    "\n",
    "import matplotlib.pyplot as plt\n",
    "from sklearn import datasets, linear_model\n",
    "import numpy as np"
   ]
  },
  {
   "cell_type": "code",
   "execution_count": 44,
   "metadata": {
    "collapsed": false
   },
   "outputs": [
    {
     "name": "stdout",
     "output_type": "stream",
     "text": [
      "Coeeficients : \n",
      " [ 938.23786125]\n",
      "\n",
      "\n",
      "\n",
      "Residual sum of squares : 2548.07239873\n",
      "Variance : 0.47\n"
     ]
    }
   ],
   "source": [
    "diabetes = datasets.load_diabetes()\n",
    "# USe only one feature out of ten\n",
    "diabetes_x = diabetes.data[:, np.newaxis, 2]\n",
    "\n",
    "# split the data into training and test set\n",
    "diabetes_x_train = diabetes_x[:-20]\n",
    "diabetes_x_test = diabetes_x[-20:]\n",
    "\n",
    "diabetes_y_train = diabetes.target[:-20]\n",
    "diabetes_y_test = diabetes.target[-20:]\n",
    "\n",
    "regr = linear_model.LinearRegression()\n",
    "\n",
    "regr.fit(diabetes_x_train, diabetes_y_train)\n",
    "\n",
    "print(\"Coeeficients : \\n\", regr.coef_)\n",
    "\n",
    "\n",
    "# Mean square\n",
    "mean = np.mean( (regr.predict(diabetes_x_test) - diabetes_y_test) ** 2)\n",
    "### If all features were considered then cost would be\n",
    "### O(n * p^2) for matrix of size (n,p)\n",
    "print(\"\\n\\n\\nResidual sum of squares :\", mean)\n",
    "print(\"Variance : %.2f\" % regr.score(diabetes_x_test, diabetes_y_test))"
   ]
  },
  {
   "cell_type": "code",
   "execution_count": 47,
   "metadata": {
    "collapsed": false
   },
   "outputs": [
    {
     "name": "stderr",
     "output_type": "stream",
     "text": [
      "C:\\Users\\murganoo\\AppData\\Local\\Continuum\\Anaconda3\\lib\\site-packages\\matplotlib\\collections.py:590: FutureWarning: elementwise comparison failed; returning scalar instead, but in the future will perform elementwise comparison\n",
      "  if self._edgecolors == str('face'):\n"
     ]
    }
   ],
   "source": [
    "plt.scatter(diabetes_x_test, diabetes_y_test, color='black')\n",
    "plt.plot(diabetes_x_test, regr.predict(diabetes_x_test), color='blue')\n",
    "plt.xticks(())\n",
    "plt.yticks(())\n",
    "plt.show()\n",
    "\n"
   ]
  }
 ],
 "metadata": {
  "kernelspec": {
   "display_name": "Python 3",
   "language": "python",
   "name": "python3"
  },
  "language_info": {
   "codemirror_mode": {
    "name": "ipython",
    "version": 3
   },
   "file_extension": ".py",
   "mimetype": "text/x-python",
   "name": "python",
   "nbconvert_exporter": "python",
   "pygments_lexer": "ipython3",
   "version": "3.5.1"
  }
 },
 "nbformat": 4,
 "nbformat_minor": 0
}
