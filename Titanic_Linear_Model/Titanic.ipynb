{
 "cells": [
  {
   "cell_type": "code",
   "execution_count": 6,
   "metadata": {
    "collapsed": false
   },
   "outputs": [
    {
     "name": "stdout",
     "output_type": "stream",
     "text": [
      "0.7833894500561167\n",
      "0.787878787879\n"
     ]
    },
    {
     "name": "stderr",
     "output_type": "stream",
     "text": [
      "C:\\Users\\murganoo\\AppData\\Local\\Continuum\\Anaconda3\\lib\\site-packages\\sklearn\\base.py:175: DeprecationWarning: inspect.getargspec() is deprecated, use inspect.signature() instead\n",
      "  args, varargs, kw, default = inspect.getargspec(init)\n",
      "C:\\Users\\murganoo\\AppData\\Local\\Continuum\\Anaconda3\\lib\\site-packages\\sklearn\\base.py:175: DeprecationWarning: inspect.getargspec() is deprecated, use inspect.signature() instead\n",
      "  args, varargs, kw, default = inspect.getargspec(init)\n",
      "C:\\Users\\murganoo\\AppData\\Local\\Continuum\\Anaconda3\\lib\\site-packages\\sklearn\\base.py:175: DeprecationWarning: inspect.getargspec() is deprecated, use inspect.signature() instead\n",
      "  args, varargs, kw, default = inspect.getargspec(init)\n",
      "C:\\Users\\murganoo\\AppData\\Local\\Continuum\\Anaconda3\\lib\\site-packages\\sklearn\\base.py:175: DeprecationWarning: inspect.getargspec() is deprecated, use inspect.signature() instead\n",
      "  args, varargs, kw, default = inspect.getargspec(init)\n",
      "C:\\Users\\murganoo\\AppData\\Local\\Continuum\\Anaconda3\\lib\\site-packages\\sklearn\\base.py:175: DeprecationWarning: inspect.getargspec() is deprecated, use inspect.signature() instead\n",
      "  args, varargs, kw, default = inspect.getargspec(init)\n",
      "C:\\Users\\murganoo\\AppData\\Local\\Continuum\\Anaconda3\\lib\\site-packages\\sklearn\\base.py:175: DeprecationWarning: inspect.getargspec() is deprecated, use inspect.signature() instead\n",
      "  args, varargs, kw, default = inspect.getargspec(init)\n"
     ]
    }
   ],
   "source": [
    "import pandas as pd\n",
    "\n",
    "\n",
    "ds = pd.read_csv(\"train.csv\")\n",
    "\n",
    "ds[\"Age\"] = ds[\"Age\"].fillna(ds[\"Age\"].median())\n",
    "\n",
    "\n",
    "ds.loc[ds[\"Sex\"] == \"male\",\"Sex\"] = 0\n",
    "ds.loc[ds[\"Sex\"] == \"female\", \"Sex\"] = 1\n",
    "\n",
    "ds[\"Embarked\"] = ds[\"Embarked\"].fillna(\"S\")\n",
    "ds.loc[ds[\"Embarked\"] == 'S', \"Embarked\"] = 0\n",
    "ds.loc[ds[\"Embarked\"] == 'C', \"Embarked\"] = 1\n",
    "ds.loc[ds[\"Embarked\"] == 'Q', \"Embarked\"] = 2\n",
    "\n",
    "from sklearn.linear_model import LinearRegression\n",
    "\n",
    "from sklearn.cross_validation import KFold\n",
    "\n",
    "predictors = [\"Pclass\", \"Sex\", \"Age\", \"SibSp\",\"Parch\",\"Fare\", \"Embarked\"]\n",
    "alg = LinearRegression()\n",
    "kf = KFold(ds.shape[0], n_folds=3, random_state=1)\n",
    "predictions = []\n",
    "\n",
    "for train, test in kf:\n",
    "    # The predictors we're using the train the algorithm.  Note how we only take the rows in the train folds.\n",
    "    train_predictors = (ds[predictors].iloc[train,:])\n",
    "    # The target we're using to train the algorithm.\n",
    "    train_target = ds[\"Survived\"].iloc[train]\n",
    "    # Training the algorithm using the predictors and target.\n",
    "    alg.fit(train_predictors, train_target)\n",
    "    # We can now make predictions on the test fold\n",
    "    test_predictions = alg.predict(ds[predictors].iloc[test,:])\n",
    "    predictions.append(test_predictions)\n",
    "\n",
    "import numpy as np\n",
    "predictions = np.concatenate(predictions, axis = 0)\n",
    "\n",
    "predictions[predictions >  .5 ] = 1\n",
    "predictions[predictions <= .5 ] = 0\n",
    "\n",
    "values = ds[\"Survived\"] == predictions \n",
    "accuracy = values[values == True].size / values.size\n",
    "print(accuracy)\n",
    "\n",
    "from sklearn import cross_validation\n",
    "from sklearn.linear_model import LogisticRegression\n",
    "alg = LogisticRegression(random_state=1)\n",
    "scores = cross_validation.cross_val_score(alg, ds[predictors], ds[\"Survived\"], cv=3)\n",
    "print(scores.mean())"
   ]
  },
  {
   "cell_type": "code",
   "execution_count": 119,
   "metadata": {
    "collapsed": false
   },
   "outputs": [],
   "source": [
    "ds_test = pd.read_csv(\"test.csv\")\n",
    "ds_test[\"Age\"] = ds_test[\"Age\"].fillna(ds[\"Age\"].median())\n",
    "ds_test.loc[ds_test[\"Sex\"] == \"male\",\"Sex\"] = 0\n",
    "ds_test.loc[ds_test[\"Sex\"] == \"female\",\"Sex\"] = 1\n",
    "ds_test[\"Embarked\"] = ds_test[\"Embarked\"].fillna(\"S\")\n",
    "ds_test.loc[ds_test[\"Embarked\"] == \"S\", \"Embarked\"] = 0\n",
    "ds_test.loc[ds_test[\"Embarked\"] == \"C\", \"Embarked\"] = 1\n",
    "ds_test.loc[ds_test[\"Embarked\"] == \"Q\", \"Embarked\"] = 2\n",
    "ds_test[\"Fare\"] = ds_test[\"Fare\"].fillna(ds_test[\"Fare\"].median())\n",
    "\n",
    "alg = LogisticRegression(random_state = 1)\n",
    "alg.fit(ds[predictors], ds[\"Survived\"])\n",
    "predictions = alg.predict(ds_test[predictors])\n",
    "\n",
    "submission = pd.DataFrame({\n",
    "        \"PassengerId\" : ds_test[\"PassengerId\"],\n",
    "        \"Survived\" : predictions\n",
    "    })\n",
    "submission.to_csv(\"Kaggle.csv\", index=False)"
   ]
  }
 ],
 "metadata": {
  "kernelspec": {
   "display_name": "Python 3",
   "language": "python",
   "name": "python3"
  },
  "language_info": {
   "codemirror_mode": {
    "name": "ipython",
    "version": 3
   },
   "file_extension": ".py",
   "mimetype": "text/x-python",
   "name": "python",
   "nbconvert_exporter": "python",
   "pygments_lexer": "ipython3",
   "version": "3.5.1"
  }
 },
 "nbformat": 4,
 "nbformat_minor": 0
}
